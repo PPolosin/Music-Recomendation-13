{
  "nbformat": 4,
  "nbformat_minor": 0,
  "metadata": {
    "colab": {
      "name": "Algorithm_apriori.ipynb",
      "provenance": []
    },
    "kernelspec": {
      "name": "python3",
      "display_name": "Python 3"
    },
    "language_info": {
      "name": "python"
    }
  },
  "cells": [
    {
      "cell_type": "code",
      "metadata": {
        "colab": {
          "base_uri": "https://localhost:8080/"
        },
        "id": "d6mX0YvciPVw",
        "outputId": "e759ad29-183d-4aa1-be1b-1d2be9860ee4"
      },
      "source": [
        "!pip install apyori"
      ],
      "execution_count": 3,
      "outputs": [
        {
          "output_type": "stream",
          "name": "stdout",
          "text": [
            "Collecting apyori\n",
            "  Downloading apyori-1.1.2.tar.gz (8.6 kB)\n",
            "Building wheels for collected packages: apyori\n",
            "  Building wheel for apyori (setup.py) ... \u001b[?25l\u001b[?25hdone\n",
            "  Created wheel for apyori: filename=apyori-1.1.2-py3-none-any.whl size=5974 sha256=2c1b1d9ceee6c6565e0b1b915d3b0e33b07cbfb77420817d1ecffa059942f1a7\n",
            "  Stored in directory: /root/.cache/pip/wheels/cb/f6/e1/57973c631d27efd1a2f375bd6a83b2a616c4021f24aab84080\n",
            "Successfully built apyori\n",
            "Installing collected packages: apyori\n",
            "Successfully installed apyori-1.1.2\n"
          ]
        }
      ]
    },
    {
      "cell_type": "code",
      "metadata": {
        "colab": {
          "base_uri": "https://localhost:8080/"
        },
        "id": "FZFcOJwzyijY",
        "outputId": "5173607b-797e-48e1-dab2-12a63e557f88"
      },
      "source": [
        "transactions[:1]\n"
      ],
      "execution_count": 12,
      "outputs": [
        {
          "output_type": "execute_result",
          "data": {
            "text/plain": [
              "[['red hot chili peppers',\n",
              "  'the black dahlia murder',\n",
              "  'goldfrapp',\n",
              "  'dropkick murphys',\n",
              "  'le tigre',\n",
              "  'schandmaul',\n",
              "  'edguy',\n",
              "  'jack johnson',\n",
              "  'eluveitie',\n",
              "  'the killers',\n",
              "  'judas priest',\n",
              "  'rob zombie',\n",
              "  'john mayer',\n",
              "  'the who',\n",
              "  'guano apes',\n",
              "  'the rolling stones']]"
            ]
          },
          "metadata": {},
          "execution_count": 12
        }
      ]
    },
    {
      "cell_type": "code",
      "metadata": {
        "id": "IK5w-2-DiTtb"
      },
      "source": [
        "import pandas as pd\n",
        "import apyori\n",
        "from apyori import apriori\n"
      ],
      "execution_count": 5,
      "outputs": []
    },
    {
      "cell_type": "code",
      "metadata": {
        "id": "A3fTaUQbeZnm"
      },
      "source": [
        "# Подготовка данных\n",
        "\n",
        "df = pd.read_csv('DATA.csv')\n",
        "df.drop_duplicates(inplace=True)\n",
        "\n",
        "transactions = []\n",
        "for i in df['user'].unique():\n",
        "    transactions.append(list(df[df['user'] == i]['artist'].values))\n",
        "1"
      ],
      "execution_count": 6,
      "outputs": []
    },
    {
      "cell_type": "markdown",
      "metadata": {
        "id": "DqTkR3s8haO9"
      },
      "source": [
        "**Support** = \"популярность\" элемента. относительная частота  появления набора X  среди всех чеков, \n",
        "т.е. выборочная оценка для априорной вероятности появления набора X. Реуглируя этот параметр, выбираем когда появляется какое-то Association rule\n",
        "\n",
        "**Confidence** есть характеристика ассоциативного правила. Это –  мера мощности прогноза, которое даёт правило, а именно\n",
        "Таким образом, для ассоциативного правила Х  –>  Y  значение показателя confidence  есть относительная частота тех случаев, когда наличие множества Х в покупательской корзине повлекло присутствие в ней множества Y\n",
        "\n",
        "**lift(x->y)** = trust(x->y)/confidence(x->y)"
      ]
    },
    {
      "cell_type": "code",
      "metadata": {
        "id": "g3B7z-o3ij3U"
      },
      "source": [
        "association_results = list(apriori(transactions, min_support=0.01, min_confidence=0.2, min_lift=1.5))\n",
        "association_results"
      ],
      "execution_count": null,
      "outputs": []
    },
    {
      "cell_type": "code",
      "metadata": {
        "id": "GXbblMEfinuT"
      },
      "source": [
        "# Если пользователь слышит X, то с соответующим уровнем, confidence, lift и support, будет рад слышать Y\n",
        "def inspect(results):\n",
        "    x = [tuple(result[2][0][0])[0] for result in results]\n",
        "    y = [tuple(result[2][0][1])[0] for result in results]\n",
        "    supports    = [result[1] for result in results]\n",
        "    confidences = [result[2][0][2] for result in results]\n",
        "    lifts       = [result[2][0][3] for result in results]\n",
        "    return list(zip(x, y, supports, confidences, lifts))\n",
        "\n",
        "\n",
        "associations = pd.DataFrame(inspect(association_results), columns = ['X', 'Y', 'Support', 'Confidence', 'Lift'])\n",
        "\n",
        "associations['Transaction']= associations['X']+\"=>\"+associations['Y']\n",
        "associations.sort_values(by='Lift',inplace=True,ascending=False)"
      ],
      "execution_count": 13,
      "outputs": []
    },
    {
      "cell_type": "code",
      "metadata": {
        "colab": {
          "base_uri": "https://localhost:8080/",
          "height": 455
        },
        "id": "X3fGq12uiot1",
        "outputId": "0a9a5f51-c9e7-4eb9-858f-9c7efae4c89b"
      },
      "source": [
        "associations"
      ],
      "execution_count": 14,
      "outputs": [
        {
          "output_type": "execute_result",
          "data": {
            "text/html": [
              "<div>\n",
              "<style scoped>\n",
              "    .dataframe tbody tr th:only-of-type {\n",
              "        vertical-align: middle;\n",
              "    }\n",
              "\n",
              "    .dataframe tbody tr th {\n",
              "        vertical-align: top;\n",
              "    }\n",
              "\n",
              "    .dataframe thead th {\n",
              "        text-align: right;\n",
              "    }\n",
              "</style>\n",
              "<table border=\"1\" class=\"dataframe\">\n",
              "  <thead>\n",
              "    <tr style=\"text-align: right;\">\n",
              "      <th></th>\n",
              "      <th>X</th>\n",
              "      <th>Y</th>\n",
              "      <th>Support</th>\n",
              "      <th>Confidence</th>\n",
              "      <th>Lift</th>\n",
              "      <th>Transaction</th>\n",
              "    </tr>\n",
              "  </thead>\n",
              "  <tbody>\n",
              "    <tr>\n",
              "      <th>374</th>\n",
              "      <td>jay-z</td>\n",
              "      <td>nas</td>\n",
              "      <td>0.010600</td>\n",
              "      <td>0.349451</td>\n",
              "      <td>14.052971</td>\n",
              "      <td>jay-z=&gt;nas</td>\n",
              "    </tr>\n",
              "    <tr>\n",
              "      <th>646</th>\n",
              "      <td>rihanna</td>\n",
              "      <td>the pussycat dolls</td>\n",
              "      <td>0.010400</td>\n",
              "      <td>0.241486</td>\n",
              "      <td>13.415893</td>\n",
              "      <td>rihanna=&gt;the pussycat dolls</td>\n",
              "    </tr>\n",
              "    <tr>\n",
              "      <th>91</th>\n",
              "      <td>beyoncé</td>\n",
              "      <td>rihanna</td>\n",
              "      <td>0.013933</td>\n",
              "      <td>0.468610</td>\n",
              "      <td>10.881034</td>\n",
              "      <td>beyoncé=&gt;rihanna</td>\n",
              "    </tr>\n",
              "    <tr>\n",
              "      <th>397</th>\n",
              "      <td>katy perry</td>\n",
              "      <td>lady gaga</td>\n",
              "      <td>0.010200</td>\n",
              "      <td>0.335526</td>\n",
              "      <td>9.926814</td>\n",
              "      <td>katy perry=&gt;lady gaga</td>\n",
              "    </tr>\n",
              "    <tr>\n",
              "      <th>496</th>\n",
              "      <td>morrissey</td>\n",
              "      <td>the smiths</td>\n",
              "      <td>0.011267</td>\n",
              "      <td>0.465565</td>\n",
              "      <td>8.896141</td>\n",
              "      <td>morrissey=&gt;the smiths</td>\n",
              "    </tr>\n",
              "    <tr>\n",
              "      <th>...</th>\n",
              "      <td>...</td>\n",
              "      <td>...</td>\n",
              "      <td>...</td>\n",
              "      <td>...</td>\n",
              "      <td>...</td>\n",
              "      <td>...</td>\n",
              "    </tr>\n",
              "    <tr>\n",
              "      <th>191</th>\n",
              "      <td>modest mouse</td>\n",
              "      <td>coldplay</td>\n",
              "      <td>0.012400</td>\n",
              "      <td>0.239382</td>\n",
              "      <td>1.509980</td>\n",
              "      <td>modest mouse=&gt;coldplay</td>\n",
              "    </tr>\n",
              "    <tr>\n",
              "      <th>220</th>\n",
              "      <td>the white stripes</td>\n",
              "      <td>coldplay</td>\n",
              "      <td>0.016533</td>\n",
              "      <td>0.238921</td>\n",
              "      <td>1.507071</td>\n",
              "      <td>the white stripes=&gt;coldplay</td>\n",
              "    </tr>\n",
              "    <tr>\n",
              "      <th>665</th>\n",
              "      <td>the kooks</td>\n",
              "      <td>the beatles</td>\n",
              "      <td>0.012933</td>\n",
              "      <td>0.267586</td>\n",
              "      <td>1.504420</td>\n",
              "      <td>the kooks=&gt;the beatles</td>\n",
              "    </tr>\n",
              "    <tr>\n",
              "      <th>196</th>\n",
              "      <td>nirvana</td>\n",
              "      <td>coldplay</td>\n",
              "      <td>0.023400</td>\n",
              "      <td>0.238289</td>\n",
              "      <td>1.503086</td>\n",
              "      <td>nirvana=&gt;coldplay</td>\n",
              "    </tr>\n",
              "    <tr>\n",
              "      <th>310</th>\n",
              "      <td>foo fighters</td>\n",
              "      <td>the beatles</td>\n",
              "      <td>0.019600</td>\n",
              "      <td>0.267273</td>\n",
              "      <td>1.502658</td>\n",
              "      <td>foo fighters=&gt;the beatles</td>\n",
              "    </tr>\n",
              "  </tbody>\n",
              "</table>\n",
              "<p>762 rows × 6 columns</p>\n",
              "</div>"
            ],
            "text/plain": [
              "                     X  ...                  Transaction\n",
              "374              jay-z  ...                   jay-z=>nas\n",
              "646            rihanna  ...  rihanna=>the pussycat dolls\n",
              "91             beyoncé  ...             beyoncé=>rihanna\n",
              "397         katy perry  ...        katy perry=>lady gaga\n",
              "496          morrissey  ...        morrissey=>the smiths\n",
              "..                 ...  ...                          ...\n",
              "191       modest mouse  ...       modest mouse=>coldplay\n",
              "220  the white stripes  ...  the white stripes=>coldplay\n",
              "665          the kooks  ...       the kooks=>the beatles\n",
              "196            nirvana  ...            nirvana=>coldplay\n",
              "310       foo fighters  ...    foo fighters=>the beatles\n",
              "\n",
              "[762 rows x 6 columns]"
            ]
          },
          "metadata": {},
          "execution_count": 14
        }
      ]
    },
    {
      "cell_type": "code",
      "metadata": {
        "id": "4Q5ksSS90tnV"
      },
      "source": [
        ""
      ],
      "execution_count": null,
      "outputs": []
    }
  ]
}